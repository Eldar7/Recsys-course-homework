{
 "cells": [
  {
   "cell_type": "markdown",
   "id": "a27a0642",
   "metadata": {},
   "source": [
    "# Задача - посчитать cips"
   ]
  },
  {
   "cell_type": "markdown",
   "id": "251ed6b1",
   "metadata": {},
   "source": [
    "## Принесём сюда лучшую модель с первого задания"
   ]
  },
  {
   "cell_type": "code",
   "execution_count": 1,
   "id": "e9a07b2f",
   "metadata": {},
   "outputs": [],
   "source": [
    "import pandas as pd\n",
    "import numpy as np\n",
    "from datetime import datetime\n",
    "\n",
    "from sklearn.metrics import log_loss\n",
    "from scipy.special import logit\n",
    "from scipy.stats import norm"
   ]
  },
  {
   "cell_type": "code",
   "execution_count": 2,
   "id": "8938630d",
   "metadata": {},
   "outputs": [
    {
     "data": {
      "text/html": [
       "<div>\n",
       "<style scoped>\n",
       "    .dataframe tbody tr th:only-of-type {\n",
       "        vertical-align: middle;\n",
       "    }\n",
       "\n",
       "    .dataframe tbody tr th {\n",
       "        vertical-align: top;\n",
       "    }\n",
       "\n",
       "    .dataframe thead th {\n",
       "        text-align: right;\n",
       "    }\n",
       "</style>\n",
       "<table border=\"1\" class=\"dataframe\">\n",
       "  <thead>\n",
       "    <tr style=\"text-align: right;\">\n",
       "      <th></th>\n",
       "      <th>date_time</th>\n",
       "      <th>zone_id</th>\n",
       "      <th>banner_id</th>\n",
       "      <th>oaid_hash</th>\n",
       "      <th>campaign_clicks</th>\n",
       "      <th>os_id</th>\n",
       "      <th>country_id</th>\n",
       "      <th>banner_id0</th>\n",
       "      <th>rate0</th>\n",
       "      <th>g0</th>\n",
       "      <th>coeff_sum0</th>\n",
       "      <th>banner_id1</th>\n",
       "      <th>rate1</th>\n",
       "      <th>g1</th>\n",
       "      <th>coeff_sum1</th>\n",
       "      <th>impressions</th>\n",
       "      <th>clicks</th>\n",
       "    </tr>\n",
       "  </thead>\n",
       "  <tbody>\n",
       "    <tr>\n",
       "      <th>0</th>\n",
       "      <td>2021-09-27 00:01:30.000000</td>\n",
       "      <td>0</td>\n",
       "      <td>0</td>\n",
       "      <td>5664530014561852622</td>\n",
       "      <td>0</td>\n",
       "      <td>0</td>\n",
       "      <td>0</td>\n",
       "      <td>1240</td>\n",
       "      <td>0.067</td>\n",
       "      <td>0.035016</td>\n",
       "      <td>-7.268846</td>\n",
       "      <td>0</td>\n",
       "      <td>0.010</td>\n",
       "      <td>0.049516</td>\n",
       "      <td>-5.369901</td>\n",
       "      <td>1</td>\n",
       "      <td>1</td>\n",
       "    </tr>\n",
       "    <tr>\n",
       "      <th>1</th>\n",
       "      <td>2021-09-26 22:54:49.000000</td>\n",
       "      <td>1</td>\n",
       "      <td>1</td>\n",
       "      <td>5186611064559013950</td>\n",
       "      <td>0</td>\n",
       "      <td>0</td>\n",
       "      <td>1</td>\n",
       "      <td>1</td>\n",
       "      <td>0.002</td>\n",
       "      <td>0.054298</td>\n",
       "      <td>-2.657477</td>\n",
       "      <td>269</td>\n",
       "      <td>0.004</td>\n",
       "      <td>0.031942</td>\n",
       "      <td>-4.449220</td>\n",
       "      <td>1</td>\n",
       "      <td>1</td>\n",
       "    </tr>\n",
       "    <tr>\n",
       "      <th>2</th>\n",
       "      <td>2021-09-26 23:57:20.000000</td>\n",
       "      <td>2</td>\n",
       "      <td>2</td>\n",
       "      <td>2215519569292448030</td>\n",
       "      <td>3</td>\n",
       "      <td>0</td>\n",
       "      <td>0</td>\n",
       "      <td>2</td>\n",
       "      <td>0.014</td>\n",
       "      <td>0.014096</td>\n",
       "      <td>-3.824875</td>\n",
       "      <td>21</td>\n",
       "      <td>0.014</td>\n",
       "      <td>0.014906</td>\n",
       "      <td>-3.939309</td>\n",
       "      <td>1</td>\n",
       "      <td>1</td>\n",
       "    </tr>\n",
       "    <tr>\n",
       "      <th>3</th>\n",
       "      <td>2021-09-27 00:04:30.000000</td>\n",
       "      <td>3</td>\n",
       "      <td>3</td>\n",
       "      <td>6262169206735077204</td>\n",
       "      <td>0</td>\n",
       "      <td>1</td>\n",
       "      <td>1</td>\n",
       "      <td>3</td>\n",
       "      <td>0.012</td>\n",
       "      <td>0.015232</td>\n",
       "      <td>-3.461357</td>\n",
       "      <td>99</td>\n",
       "      <td>0.006</td>\n",
       "      <td>0.050671</td>\n",
       "      <td>-3.418403</td>\n",
       "      <td>1</td>\n",
       "      <td>1</td>\n",
       "    </tr>\n",
       "    <tr>\n",
       "      <th>4</th>\n",
       "      <td>2021-09-27 00:06:21.000000</td>\n",
       "      <td>4</td>\n",
       "      <td>4</td>\n",
       "      <td>4778985830203613115</td>\n",
       "      <td>0</td>\n",
       "      <td>1</td>\n",
       "      <td>0</td>\n",
       "      <td>4</td>\n",
       "      <td>0.019</td>\n",
       "      <td>0.051265</td>\n",
       "      <td>-4.009026</td>\n",
       "      <td>11464230</td>\n",
       "      <td>6.790</td>\n",
       "      <td>0.032005</td>\n",
       "      <td>-2.828797</td>\n",
       "      <td>1</td>\n",
       "      <td>1</td>\n",
       "    </tr>\n",
       "  </tbody>\n",
       "</table>\n",
       "</div>"
      ],
      "text/plain": [
       "                    date_time  zone_id  banner_id            oaid_hash  \\\n",
       "0  2021-09-27 00:01:30.000000        0          0  5664530014561852622   \n",
       "1  2021-09-26 22:54:49.000000        1          1  5186611064559013950   \n",
       "2  2021-09-26 23:57:20.000000        2          2  2215519569292448030   \n",
       "3  2021-09-27 00:04:30.000000        3          3  6262169206735077204   \n",
       "4  2021-09-27 00:06:21.000000        4          4  4778985830203613115   \n",
       "\n",
       "   campaign_clicks  os_id  country_id  banner_id0  rate0        g0  \\\n",
       "0                0      0           0        1240  0.067  0.035016   \n",
       "1                0      0           1           1  0.002  0.054298   \n",
       "2                3      0           0           2  0.014  0.014096   \n",
       "3                0      1           1           3  0.012  0.015232   \n",
       "4                0      1           0           4  0.019  0.051265   \n",
       "\n",
       "   coeff_sum0  banner_id1  rate1        g1  coeff_sum1  impressions  clicks  \n",
       "0   -7.268846           0  0.010  0.049516   -5.369901            1       1  \n",
       "1   -2.657477         269  0.004  0.031942   -4.449220            1       1  \n",
       "2   -3.824875          21  0.014  0.014906   -3.939309            1       1  \n",
       "3   -3.461357          99  0.006  0.050671   -3.418403            1       1  \n",
       "4   -4.009026    11464230  6.790  0.032005   -2.828797            1       1  "
      ]
     },
     "execution_count": 2,
     "metadata": {},
     "output_type": "execute_result"
    }
   ],
   "source": [
    "df = pd.read_csv('../data/data.csv')\n",
    "df.head()"
   ]
  },
  {
   "cell_type": "code",
   "execution_count": 3,
   "id": "ee4edc11",
   "metadata": {},
   "outputs": [],
   "source": [
    "df.date_time = pd.to_datetime(df.date_time, format='%Y-%m-%d %H:%M:%S.%f')\n",
    "df['date'] = df.date_time.dt.date\n",
    "df = df.sort_values(by='date_time')"
   ]
  },
  {
   "cell_type": "code",
   "execution_count": 4,
   "id": "66f03260",
   "metadata": {},
   "outputs": [],
   "source": [
    "train = df[df.date <= datetime.strptime('2021-09-30', '%Y-%m-%d').date()]\n",
    "val = df[df.date == datetime.strptime('2021-10-01', '%Y-%m-%d').date()]\n",
    "test = df[df.date == datetime.strptime('2021-10-02', '%Y-%m-%d').date()]"
   ]
  },
  {
   "cell_type": "code",
   "execution_count": 5,
   "id": "64c206ff",
   "metadata": {},
   "outputs": [],
   "source": [
    "train_slice = len(train)\n",
    "val_slice = len(val)\n",
    "test_slice = len(test)"
   ]
  },
  {
   "cell_type": "code",
   "execution_count": 6,
   "id": "a58824f5",
   "metadata": {},
   "outputs": [],
   "source": [
    "cols = list(set(df.columns).difference(['oaid_hash', 'banner_id0', 'banner_id1', 'rate0', 'rate1', 'g0', 'g1', 'coeff_sum0', 'coeff_sum1']))"
   ]
  },
  {
   "cell_type": "code",
   "execution_count": 7,
   "id": "c1fd6705",
   "metadata": {},
   "outputs": [
    {
     "data": {
      "text/html": [
       "<div>\n",
       "<style scoped>\n",
       "    .dataframe tbody tr th:only-of-type {\n",
       "        vertical-align: middle;\n",
       "    }\n",
       "\n",
       "    .dataframe tbody tr th {\n",
       "        vertical-align: top;\n",
       "    }\n",
       "\n",
       "    .dataframe thead th {\n",
       "        text-align: right;\n",
       "    }\n",
       "</style>\n",
       "<table border=\"1\" class=\"dataframe\">\n",
       "  <thead>\n",
       "    <tr style=\"text-align: right;\">\n",
       "      <th></th>\n",
       "      <th>date_time</th>\n",
       "      <th>date</th>\n",
       "      <th>country_id</th>\n",
       "      <th>os_id</th>\n",
       "      <th>zone_id</th>\n",
       "      <th>clicks</th>\n",
       "      <th>campaign_clicks</th>\n",
       "      <th>banner_id</th>\n",
       "      <th>impressions</th>\n",
       "    </tr>\n",
       "  </thead>\n",
       "  <tbody>\n",
       "    <tr>\n",
       "      <th>1390198</th>\n",
       "      <td>2021-09-01 00:02:49</td>\n",
       "      <td>2021-09-01</td>\n",
       "      <td>7</td>\n",
       "      <td>0</td>\n",
       "      <td>30</td>\n",
       "      <td>0</td>\n",
       "      <td>0</td>\n",
       "      <td>596</td>\n",
       "      <td>1</td>\n",
       "    </tr>\n",
       "    <tr>\n",
       "      <th>5041415</th>\n",
       "      <td>2021-09-26 00:00:00</td>\n",
       "      <td>2021-09-26</td>\n",
       "      <td>0</td>\n",
       "      <td>3</td>\n",
       "      <td>41</td>\n",
       "      <td>0</td>\n",
       "      <td>1</td>\n",
       "      <td>29</td>\n",
       "      <td>1</td>\n",
       "    </tr>\n",
       "    <tr>\n",
       "      <th>1442602</th>\n",
       "      <td>2021-09-26 00:00:00</td>\n",
       "      <td>2021-09-26</td>\n",
       "      <td>15</td>\n",
       "      <td>2</td>\n",
       "      <td>1</td>\n",
       "      <td>0</td>\n",
       "      <td>2</td>\n",
       "      <td>188</td>\n",
       "      <td>1</td>\n",
       "    </tr>\n",
       "    <tr>\n",
       "      <th>7232498</th>\n",
       "      <td>2021-09-26 00:00:00</td>\n",
       "      <td>2021-09-26</td>\n",
       "      <td>5</td>\n",
       "      <td>2</td>\n",
       "      <td>17</td>\n",
       "      <td>0</td>\n",
       "      <td>2</td>\n",
       "      <td>52</td>\n",
       "      <td>1</td>\n",
       "    </tr>\n",
       "    <tr>\n",
       "      <th>14938691</th>\n",
       "      <td>2021-09-26 00:00:00</td>\n",
       "      <td>2021-09-26</td>\n",
       "      <td>13</td>\n",
       "      <td>4</td>\n",
       "      <td>47</td>\n",
       "      <td>0</td>\n",
       "      <td>1</td>\n",
       "      <td>73</td>\n",
       "      <td>1</td>\n",
       "    </tr>\n",
       "  </tbody>\n",
       "</table>\n",
       "</div>"
      ],
      "text/plain": [
       "                   date_time        date  country_id  os_id  zone_id  clicks  \\\n",
       "1390198  2021-09-01 00:02:49  2021-09-01           7      0       30       0   \n",
       "5041415  2021-09-26 00:00:00  2021-09-26           0      3       41       0   \n",
       "1442602  2021-09-26 00:00:00  2021-09-26          15      2        1       0   \n",
       "7232498  2021-09-26 00:00:00  2021-09-26           5      2       17       0   \n",
       "14938691 2021-09-26 00:00:00  2021-09-26          13      4       47       0   \n",
       "\n",
       "          campaign_clicks  banner_id  impressions  \n",
       "1390198                 0        596            1  \n",
       "5041415                 1         29            1  \n",
       "1442602                 2        188            1  \n",
       "7232498                 2         52            1  \n",
       "14938691                1         73            1  "
      ]
     },
     "execution_count": 7,
     "metadata": {},
     "output_type": "execute_result"
    }
   ],
   "source": [
    "df[cols].head()"
   ]
  },
  {
   "cell_type": "code",
   "execution_count": 8,
   "id": "e3eb5c34",
   "metadata": {},
   "outputs": [],
   "source": [
    "from scipy import sparse\n",
    "from sklearn.preprocessing import OneHotEncoder, StandardScaler\n",
    "\n",
    "ohe = OneHotEncoder()\n",
    "scaller = StandardScaler()"
   ]
  },
  {
   "cell_type": "code",
   "execution_count": 9,
   "id": "a1d93a48",
   "metadata": {},
   "outputs": [],
   "source": [
    "def feature_engineering(df: pd.DataFrame) -> pd.DataFrame:\n",
    "    #интеракции 'zone_id', 'campaign_clicks', 'country_id', 'os_id', 'impressions', 'banner_id'\n",
    "    df['zone_id_banner_id'] = df['zone_id'].astype('str') + '_' + df['banner_id'].astype('str')\n",
    "    df['zone_id_country_id'] = df['zone_id'].astype('str') + '_' + df['country_id'].astype('str')\n",
    "    df['zone_id_os_id'] = df['zone_id'].astype('str') + '_' + df['os_id'].astype('str')\n",
    "    df['country_id_os_id'] = df['country_id'].astype('str') + '_' + df['os_id'].astype('str')\n",
    "    df['country_id_banner_id'] = df['country_id'].astype('str') + '_' + df['banner_id'].astype('str')\n",
    "    df['os_id_banner_id'] = df['os_id'].astype('str') + '_' + df['banner_id'].astype('str')\n",
    "    \n",
    "    return df"
   ]
  },
  {
   "cell_type": "code",
   "execution_count": 10,
   "id": "989c4b32",
   "metadata": {},
   "outputs": [],
   "source": [
    "test_banner_id1 = test.copy()\n",
    "test_banner_id1['banner_id'] = test_banner_id1['banner_id1']\n",
    "\n",
    "df = pd.concat([df, test_banner_id1], axis=0, ignore_index=True)"
   ]
  },
  {
   "cell_type": "code",
   "execution_count": 11,
   "id": "88acda7d",
   "metadata": {},
   "outputs": [
    {
     "name": "stdout",
     "output_type": "stream",
     "text": [
      "CPU times: user 1min 50s, sys: 6.99 s, total: 1min 57s\n",
      "Wall time: 1min 58s\n"
     ]
    },
    {
     "data": {
      "text/html": [
       "<div>\n",
       "<style scoped>\n",
       "    .dataframe tbody tr th:only-of-type {\n",
       "        vertical-align: middle;\n",
       "    }\n",
       "\n",
       "    .dataframe tbody tr th {\n",
       "        vertical-align: top;\n",
       "    }\n",
       "\n",
       "    .dataframe thead th {\n",
       "        text-align: right;\n",
       "    }\n",
       "</style>\n",
       "<table border=\"1\" class=\"dataframe\">\n",
       "  <thead>\n",
       "    <tr style=\"text-align: right;\">\n",
       "      <th></th>\n",
       "      <th>date_time</th>\n",
       "      <th>zone_id</th>\n",
       "      <th>banner_id</th>\n",
       "      <th>oaid_hash</th>\n",
       "      <th>campaign_clicks</th>\n",
       "      <th>os_id</th>\n",
       "      <th>country_id</th>\n",
       "      <th>banner_id0</th>\n",
       "      <th>rate0</th>\n",
       "      <th>g0</th>\n",
       "      <th>...</th>\n",
       "      <th>coeff_sum1</th>\n",
       "      <th>impressions</th>\n",
       "      <th>clicks</th>\n",
       "      <th>date</th>\n",
       "      <th>zone_id_banner_id</th>\n",
       "      <th>zone_id_country_id</th>\n",
       "      <th>zone_id_os_id</th>\n",
       "      <th>country_id_os_id</th>\n",
       "      <th>country_id_banner_id</th>\n",
       "      <th>os_id_banner_id</th>\n",
       "    </tr>\n",
       "  </thead>\n",
       "  <tbody>\n",
       "    <tr>\n",
       "      <th>0</th>\n",
       "      <td>2021-09-01 00:02:49</td>\n",
       "      <td>30</td>\n",
       "      <td>596</td>\n",
       "      <td>5236744527665721365</td>\n",
       "      <td>0</td>\n",
       "      <td>0</td>\n",
       "      <td>7</td>\n",
       "      <td>596</td>\n",
       "      <td>0.050</td>\n",
       "      <td>0.064560</td>\n",
       "      <td>...</td>\n",
       "      <td>-4.370191</td>\n",
       "      <td>1</td>\n",
       "      <td>0</td>\n",
       "      <td>2021-09-01</td>\n",
       "      <td>30_596</td>\n",
       "      <td>30_7</td>\n",
       "      <td>30_0</td>\n",
       "      <td>7_0</td>\n",
       "      <td>7_596</td>\n",
       "      <td>0_596</td>\n",
       "    </tr>\n",
       "    <tr>\n",
       "      <th>1</th>\n",
       "      <td>2021-09-26 00:00:00</td>\n",
       "      <td>41</td>\n",
       "      <td>29</td>\n",
       "      <td>1834033519797437404</td>\n",
       "      <td>1</td>\n",
       "      <td>3</td>\n",
       "      <td>0</td>\n",
       "      <td>29</td>\n",
       "      <td>0.002</td>\n",
       "      <td>0.016386</td>\n",
       "      <td>...</td>\n",
       "      <td>-4.898257</td>\n",
       "      <td>1</td>\n",
       "      <td>0</td>\n",
       "      <td>2021-09-26</td>\n",
       "      <td>41_29</td>\n",
       "      <td>41_0</td>\n",
       "      <td>41_3</td>\n",
       "      <td>0_3</td>\n",
       "      <td>0_29</td>\n",
       "      <td>3_29</td>\n",
       "    </tr>\n",
       "    <tr>\n",
       "      <th>2</th>\n",
       "      <td>2021-09-26 00:00:00</td>\n",
       "      <td>1</td>\n",
       "      <td>188</td>\n",
       "      <td>7416450538971744701</td>\n",
       "      <td>2</td>\n",
       "      <td>2</td>\n",
       "      <td>15</td>\n",
       "      <td>188</td>\n",
       "      <td>0.008</td>\n",
       "      <td>0.014186</td>\n",
       "      <td>...</td>\n",
       "      <td>-2.106896</td>\n",
       "      <td>1</td>\n",
       "      <td>0</td>\n",
       "      <td>2021-09-26</td>\n",
       "      <td>1_188</td>\n",
       "      <td>1_15</td>\n",
       "      <td>1_2</td>\n",
       "      <td>15_2</td>\n",
       "      <td>15_188</td>\n",
       "      <td>2_188</td>\n",
       "    </tr>\n",
       "    <tr>\n",
       "      <th>3</th>\n",
       "      <td>2021-09-26 00:00:00</td>\n",
       "      <td>17</td>\n",
       "      <td>52</td>\n",
       "      <td>1832228443297591417</td>\n",
       "      <td>2</td>\n",
       "      <td>2</td>\n",
       "      <td>5</td>\n",
       "      <td>52</td>\n",
       "      <td>0.008</td>\n",
       "      <td>0.013550</td>\n",
       "      <td>...</td>\n",
       "      <td>-3.739501</td>\n",
       "      <td>1</td>\n",
       "      <td>0</td>\n",
       "      <td>2021-09-26</td>\n",
       "      <td>17_52</td>\n",
       "      <td>17_5</td>\n",
       "      <td>17_2</td>\n",
       "      <td>5_2</td>\n",
       "      <td>5_52</td>\n",
       "      <td>2_52</td>\n",
       "    </tr>\n",
       "    <tr>\n",
       "      <th>4</th>\n",
       "      <td>2021-09-26 00:00:00</td>\n",
       "      <td>47</td>\n",
       "      <td>73</td>\n",
       "      <td>4180077124914749282</td>\n",
       "      <td>1</td>\n",
       "      <td>4</td>\n",
       "      <td>13</td>\n",
       "      <td>73</td>\n",
       "      <td>0.008</td>\n",
       "      <td>0.120974</td>\n",
       "      <td>...</td>\n",
       "      <td>-3.037939</td>\n",
       "      <td>1</td>\n",
       "      <td>0</td>\n",
       "      <td>2021-09-26</td>\n",
       "      <td>47_73</td>\n",
       "      <td>47_13</td>\n",
       "      <td>47_4</td>\n",
       "      <td>13_4</td>\n",
       "      <td>13_73</td>\n",
       "      <td>4_73</td>\n",
       "    </tr>\n",
       "  </tbody>\n",
       "</table>\n",
       "<p>5 rows × 24 columns</p>\n",
       "</div>"
      ],
      "text/plain": [
       "            date_time  zone_id  banner_id            oaid_hash  \\\n",
       "0 2021-09-01 00:02:49       30        596  5236744527665721365   \n",
       "1 2021-09-26 00:00:00       41         29  1834033519797437404   \n",
       "2 2021-09-26 00:00:00        1        188  7416450538971744701   \n",
       "3 2021-09-26 00:00:00       17         52  1832228443297591417   \n",
       "4 2021-09-26 00:00:00       47         73  4180077124914749282   \n",
       "\n",
       "   campaign_clicks  os_id  country_id  banner_id0  rate0        g0  ...  \\\n",
       "0                0      0           7         596  0.050  0.064560  ...   \n",
       "1                1      3           0          29  0.002  0.016386  ...   \n",
       "2                2      2          15         188  0.008  0.014186  ...   \n",
       "3                2      2           5          52  0.008  0.013550  ...   \n",
       "4                1      4          13          73  0.008  0.120974  ...   \n",
       "\n",
       "   coeff_sum1  impressions  clicks        date  zone_id_banner_id  \\\n",
       "0   -4.370191            1       0  2021-09-01             30_596   \n",
       "1   -4.898257            1       0  2021-09-26              41_29   \n",
       "2   -2.106896            1       0  2021-09-26              1_188   \n",
       "3   -3.739501            1       0  2021-09-26              17_52   \n",
       "4   -3.037939            1       0  2021-09-26              47_73   \n",
       "\n",
       "   zone_id_country_id  zone_id_os_id country_id_os_id country_id_banner_id  \\\n",
       "0                30_7           30_0              7_0                7_596   \n",
       "1                41_0           41_3              0_3                 0_29   \n",
       "2                1_15            1_2             15_2               15_188   \n",
       "3                17_5           17_2              5_2                 5_52   \n",
       "4               47_13           47_4             13_4                13_73   \n",
       "\n",
       "  os_id_banner_id  \n",
       "0           0_596  \n",
       "1            3_29  \n",
       "2           2_188  \n",
       "3            2_52  \n",
       "4            4_73  \n",
       "\n",
       "[5 rows x 24 columns]"
      ]
     },
     "execution_count": 11,
     "metadata": {},
     "output_type": "execute_result"
    }
   ],
   "source": [
    "%%time\n",
    "df = feature_engineering(df)\n",
    "df.head()"
   ]
  },
  {
   "cell_type": "code",
   "execution_count": 12,
   "id": "a2405235",
   "metadata": {},
   "outputs": [
    {
     "name": "stdout",
     "output_type": "stream",
     "text": [
      "CPU times: user 47.7 s, sys: 8.89 s, total: 56.6 s\n",
      "Wall time: 58 s\n"
     ]
    }
   ],
   "source": [
    "%%time\n",
    "data = sparse.hstack([\n",
    "    #оригинальные фичи\n",
    "    ohe.fit_transform(df[['zone_id']]),\n",
    "    ohe.fit_transform(df[['os_id']]),\n",
    "    ohe.fit_transform(df[['banner_id']]),\n",
    "    ohe.fit_transform(df[['country_id']]),\n",
    "    sparse.csr_matrix(scaller.fit_transform(df[['campaign_clicks']])),\n",
    "    #интеракции\n",
    "    ohe.fit_transform(df[['zone_id_banner_id']]),\n",
    "    ohe.fit_transform(df[['zone_id_country_id']]),\n",
    "    ohe.fit_transform(df[['zone_id_os_id']]),\n",
    "    ohe.fit_transform(df[['country_id_os_id']]),\n",
    "    ohe.fit_transform(df[['country_id_banner_id']]),\n",
    "    ohe.fit_transform(df[['os_id_banner_id']])\n",
    "])"
   ]
  },
  {
   "cell_type": "code",
   "execution_count": 13,
   "id": "da671b4c",
   "metadata": {},
   "outputs": [],
   "source": [
    "data_train = data.tocsr()[:train_slice]\n",
    "data_val = data.tocsr()[train_slice:train_slice+val_slice]\n",
    "data_test = data.tocsr()[train_slice+val_slice:]"
   ]
  },
  {
   "cell_type": "code",
   "execution_count": 14,
   "id": "eb8ccfc0",
   "metadata": {},
   "outputs": [],
   "source": [
    "from sklearn.linear_model import LogisticRegression"
   ]
  },
  {
   "cell_type": "code",
   "execution_count": 15,
   "id": "bd175177",
   "metadata": {},
   "outputs": [
    {
     "name": "stdout",
     "output_type": "stream",
     "text": [
      "[LibLinear]iter  1 act 6.847e+05 pre 6.084e+05 delta 1.747e+00 f 9.491e+05 |g| 7.963e+05 CG   1\n",
      "iter  2 act 8.521e+04 pre 7.061e+04 delta 1.747e+00 f 2.644e+05 |g| 1.809e+05 CG   1\n",
      "cg reaches trust region boundary\n",
      "iter  3 act 2.459e+04 pre 2.080e+04 delta 2.163e+00 f 1.792e+05 |g| 5.417e+04 CG   4\n",
      "cg reaches trust region boundary\n",
      "iter  4 act 6.677e+03 pre 5.832e+03 delta 2.607e+00 f 1.546e+05 |g| 1.776e+04 CG   4\n",
      "cg reaches trust region boundary\n",
      "iter  5 act 2.364e+03 pre 2.229e+03 delta 2.814e+00 f 1.479e+05 |g| 5.650e+03 CG   5\n",
      "cg reaches trust region boundary\n",
      "iter  6 act 1.645e+03 pre 1.614e+03 delta 3.125e+00 f 1.456e+05 |g| 3.118e+03 CG   6\n",
      "cg reaches trust region boundary\n",
      "iter  7 act 9.844e+02 pre 9.925e+02 delta 3.125e+00 f 1.439e+05 |g| 1.942e+03 CG   7\n",
      "cg reaches trust region boundary\n",
      "iter  8 act 7.681e+02 pre 7.693e+02 delta 3.200e+00 f 1.429e+05 |g| 1.509e+03 CG   9\n",
      "cg reaches trust region boundary\n",
      "iter  9 act 5.330e+02 pre 5.317e+02 delta 3.371e+00 f 1.422e+05 |g| 1.162e+03 CG  10\n",
      "cg reaches trust region boundary\n",
      "iter 10 act 3.897e+02 pre 3.875e+02 delta 3.617e+00 f 1.416e+05 |g| 7.831e+02 CG  11\n",
      "cg reaches trust region boundary\n",
      "iter 11 act 2.895e+02 pre 2.986e+02 delta 3.677e+00 f 1.412e+05 |g| 6.723e+02 CG  14\n",
      "cg reaches trust region boundary\n",
      "iter 12 act 2.577e+02 pre 2.528e+02 delta 4.014e+00 f 1.409e+05 |g| 5.117e+02 CG  15\n",
      "cg reaches trust region boundary\n",
      "iter 13 act 1.881e+02 pre 1.888e+02 delta 4.022e+00 f 1.407e+05 |g| 3.612e+02 CG  17\n",
      "cg reaches trust region boundary\n",
      "iter 14 act 1.694e+02 pre 1.697e+02 delta 4.118e+00 f 1.405e+05 |g| 4.316e+02 CG  19\n",
      "cg reaches trust region boundary\n",
      "iter 15 act 1.289e+02 pre 1.313e+02 delta 4.240e+00 f 1.403e+05 |g| 2.865e+02 CG  21\n",
      "cg reaches trust region boundary\n",
      "iter 16 act 9.916e+01 pre 9.760e+01 delta 4.254e+00 f 1.402e+05 |g| 4.761e+02 CG  22\n",
      "cg reaches trust region boundary\n",
      "iter 17 act 7.199e+01 pre 7.280e+01 delta 4.254e+00 f 1.401e+05 |g| 3.825e+02 CG  27\n",
      "cg reaches trust region boundary\n",
      "iter 18 act 5.092e+01 pre 5.074e+01 delta 4.392e+00 f 1.400e+05 |g| 1.436e+02 CG  33\n",
      "cg reaches trust region boundary\n",
      "iter 19 act 2.654e+01 pre 2.651e+01 delta 4.410e+00 f 1.400e+05 |g| 7.831e+01 CG  45\n",
      "iter 20 act 4.719e+00 pre 4.715e+00 delta 4.410e+00 f 1.400e+05 |g| 4.467e+01 CG  73\n",
      "iter 21 act 7.435e-02 pre 7.432e-02 delta 4.410e+00 f 1.399e+05 |g| 4.949e+00 CG  80\n",
      "CPU times: user 10min 34s, sys: 1min 8s, total: 11min 43s\n",
      "Wall time: 10min 8s\n"
     ]
    }
   ],
   "source": [
    "%%time\n",
    "clf_liblinear_final = LogisticRegression(random_state=0, \n",
    "                                     solver='liblinear',\n",
    "                                     C=0.1, verbose=1\n",
    "                                     ).fit(data.tocsr()[:train_slice+val_slice], df[df.date <= datetime.strptime('2021-10-01', '%Y-%m-%d').date()]['clicks'])\n"
   ]
  },
  {
   "cell_type": "code",
   "execution_count": 23,
   "id": "a905710a",
   "metadata": {},
   "outputs": [
    {
     "name": "stdout",
     "output_type": "stream",
     "text": [
      "log_loss на тесте:  0.1304476979828665\n"
     ]
    }
   ],
   "source": [
    "pred_proba = clf_liblinear_final.predict_proba(data_test[:test_slice])\n",
    "print ('log_loss на тесте: ', log_loss(test.clicks, pred_proba))"
   ]
  },
  {
   "cell_type": "code",
   "execution_count": 24,
   "id": "605ba285",
   "metadata": {},
   "outputs": [
    {
     "name": "stdout",
     "output_type": "stream",
     "text": [
      "log_loss на тесте (banner_id1):  0.1366544531245715\n"
     ]
    }
   ],
   "source": [
    "pred_proba_banner_id1 = clf_liblinear_final.predict_proba(data_test[test_slice:])\n",
    "print ('log_loss на тесте (banner_id1): ', log_loss(test.clicks, pred_proba_banner_id1))"
   ]
  },
  {
   "cell_type": "markdown",
   "id": "d26453f4",
   "metadata": {},
   "source": [
    "## Считаем OPE метрику clipped ips на последнем дне "
   ]
  },
  {
   "cell_type": "code",
   "execution_count": null,
   "id": "df93201a",
   "metadata": {},
   "outputs": [],
   "source": [
    "ope_df = test.copy()\n",
    "ope_df['banner_id0_proba'] = pred_proba[:,1]\n",
    "ope_df['banner_id1_proba'] = pred_proba_banner_id1[:,1]\n",
    "\n",
    "ope_df['banner_id0_proba_logit'] = logit(ope_df['banner_id0_proba'])\n",
    "ope_df['banner_id1_proba_logit'] = logit(ope_df['banner_id1_proba'])\n",
    "\n",
    "ope_df['p0'] = 1 - norm.cdf(\n",
    "    (- ope_df['coeff_sum0'] + ope_df['coeff_sum1'])/(np.abs(ope_df['g0']**2 + ope_df['g1']**2)**0.5)  \n",
    ")\n",
    "\n",
    "ope_df['p1'] = 1 - norm.cdf(\n",
    "    (- ope_df['banner_id0_proba_logit'] + ope_df['banner_id1_proba_logit'])/(np.abs(ope_df['g0']**2 + ope_df['g1']**2)**0.5)\n",
    ")\n",
    "\n",
    "ope_df['ratio'] = ope_df['p1']/ope_df['p0']\n",
    "ope_df['lambda'] = 10"
   ]
  },
  {
   "cell_type": "markdown",
   "id": "33330478",
   "metadata": {},
   "source": [
    "### Важный момент. Те предикты которые у вас уже имеются, они работают для banner_id0, потому что он совпадает с banner_id. \n",
    "На самом деле не всегда. Поэтому мы оставим только те случаи, где совпадает. `fitted`"
   ]
  },
  {
   "cell_type": "code",
   "execution_count": 49,
   "id": "eb6e6412",
   "metadata": {},
   "outputs": [
    {
     "data": {
      "text/plain": [
       "(1890562, 18)"
      ]
     },
     "execution_count": 49,
     "metadata": {},
     "output_type": "execute_result"
    }
   ],
   "source": [
    "test[test.banner_id == test.banner_id0].shape"
   ]
  },
  {
   "cell_type": "code",
   "execution_count": 50,
   "id": "0077833b",
   "metadata": {},
   "outputs": [
    {
     "data": {
      "text/plain": [
       "(238416, 18)"
      ]
     },
     "execution_count": 50,
     "metadata": {},
     "output_type": "execute_result"
    }
   ],
   "source": [
    "test[test.banner_id != test.banner_id0].shape"
   ]
  },
  {
   "cell_type": "code",
   "execution_count": 54,
   "id": "b90781f0",
   "metadata": {},
   "outputs": [],
   "source": [
    "fitted = ope_df[ope_df['banner_id'] == ope_df['banner_id0']]\n",
    "cips = (fitted['clicks']*fitted[['ratio', 'lambda']].min(axis=1)).sum()/fitted.shape[0]"
   ]
  },
  {
   "cell_type": "code",
   "execution_count": 55,
   "id": "f34f2ee1",
   "metadata": {},
   "outputs": [
    {
     "data": {
      "text/plain": [
       "0.0803272610351773"
      ]
     },
     "execution_count": 55,
     "metadata": {},
     "output_type": "execute_result"
    }
   ],
   "source": [
    "cips"
   ]
  },
  {
   "cell_type": "markdown",
   "id": "c03985b8",
   "metadata": {},
   "source": [
    "# Ответ:\n",
    "0.080327"
   ]
  },
  {
   "cell_type": "code",
   "execution_count": null,
   "id": "af2bfe60",
   "metadata": {},
   "outputs": [],
   "source": []
  }
 ],
 "metadata": {
  "kernelspec": {
   "display_name": "Python 3 (ipykernel)",
   "language": "python",
   "name": "python3"
  },
  "language_info": {
   "codemirror_mode": {
    "name": "ipython",
    "version": 3
   },
   "file_extension": ".py",
   "mimetype": "text/x-python",
   "name": "python",
   "nbconvert_exporter": "python",
   "pygments_lexer": "ipython3",
   "version": "3.9.6"
  }
 },
 "nbformat": 4,
 "nbformat_minor": 5
}
